{
  "cells": [
    {
      "cell_type": "markdown",
      "metadata": {
        "id": "S_AICXg0ypBT"
      },
      "source": [
        "# JAX Workshop (Solutions)\n",
        "\n",
        "## The problem\n",
        "\n",
        "Bitney is a new student. He would like to get some help with navigating around the campus. Every day he decides how many hours he is planning to spend around. There are $K=5$ types of facilities he uses:\n",
        "\n",
        "- 0: Library\n",
        "- 1: Lecture theatre\n",
        "- 2: Mensa\n",
        "- 3: Park\n",
        "- 4: Sports centre\n",
        "\n",
        "For example, on Monday he decided to spend five hours on campus, with his trajectory being\n",
        "\n",
        "$\\mathbf{X}_\\text{Monday} = (0, 0, 2, 3, 0)$,\n",
        "\n",
        "meaning that he first spent two hours at the library, then one hour at the mensa, followed by one hour in the nearby park, and then spent another hour at the library.\n",
        "\n",
        "On Tuesday he spent eight hours on campus:\n",
        "\n",
        "$\\mathbf{X}_\\text{Tuesday} = (2, 1, 1, 2, 1, 0, 0, 4)$.\n",
        "\n",
        "Bitney collected the data from several days and now would like to understand better his behaviour if he plans to spend $n$ hours at the campus.\n",
        "For example, he would like to predict:\n",
        "\n",
        "  - How likely is that he'll visit park?\n",
        "  - How many hours will he spend in the library?\n",
        "  - How many different buildings will he visit?\n",
        "\n",
        "We will help him by building a generative model simulating his past (and, hopefully, future) days."
      ]
    },
    {
      "cell_type": "code",
      "execution_count": null,
      "metadata": {
        "id": "1HsXvm-fygrC"
      },
      "outputs": [],
      "source": [
        "import jax\n",
        "import jax.numpy as jnp\n",
        "\n",
        "TRAJECTORIES = [[0, 1], [1, 3], [0, 0], [1, 1], [1, 1], [2, 0], [4, 3], [2, 1], [0, 0], [0, 2], [0, 0, 0], [1, 0, 1], [4, 0, 0], [4, 0, 3], [1, 3, 0], [4, 4, 3, 0], [1, 1, 1, 3], [4, 1, 0, 0], [4, 0, 0, 0], [2, 1, 0, 1], [1, 4, 4, 1, 1], [1, 1, 0, 2, 0], [1, 0, 1, 1, 0], [3, 1, 2, 3, 1], [2, 3, 0, 1, 0], [2, 0, 1, 0, 0], [2, 1, 3, 0, 0], [0, 4, 0, 0, 0], [4, 0, 0, 0, 1, 0], [0, 2, 1, 0, 0, 0], [0, 1, 2, 1, 1, 1], [1, 0, 0, 0, 4, 4], [1, 3, 1, 4, 1, 0], [1, 1, 0, 1, 2, 1], [1, 4, 4, 1, 4, 0], [1, 1, 1, 1, 3, 0], [2, 3, 0, 2, 3, 1], [0, 0, 0, 1, 1, 4], [1, 4, 4, 3, 1, 0], [4, 1, 3, 0, 0, 0], [4, 4, 1, 4, 0, 1], [4, 1, 1, 0, 0, 1], [2, 3, 1, 1, 1, 0], [1, 1, 1, 3, 1, 3], [1, 0, 0, 1, 0, 4], [0, 0, 0, 0, 0, 0], [1, 0, 1, 1, 0, 0], [2, 1, 0, 0, 0, 1], [4, 4, 4, 0, 0, 0, 4], [4, 0, 1, 0, 0, 1, 0], [2, 3, 1, 1, 0, 0, 0], [0, 0, 0, 0, 0, 4, 0], [1, 3, 0, 0, 0, 1, 1], [1, 0, 0, 1, 1, 1, 4], [0, 0, 1, 1, 1, 1, 2], [4, 0, 1, 1, 0, 0, 0], [2, 0, 0, 0, 1, 4, 4], [1, 4, 0, 1, 1, 1, 0], [1, 1, 0, 2, 1, 3, 0], [1, 0, 3, 4, 0, 0, 1], [2, 1, 1, 1, 3, 1, 1], [1, 0, 0, 0, 0, 0, 0], [1, 1, 1, 0, 0, 4, 3], [1, 0, 0, 4, 1, 1, 2], [2, 1, 0, 0, 2, 0, 0], [2, 0, 1, 0, 2, 3, 4], [4, 0, 0, 0, 4, 4, 0], [1, 1, 1, 3, 1, 4, 1], [4, 1, 2, 3, 1, 3, 0], [1, 3, 1, 1, 0, 0, 1], [1, 0, 4, 1, 4, 1, 0], [1, 0, 0, 0, 1, 1, 0], [1, 0, 0, 3, 0, 0, 0], [1, 0, 0, 0, 0, 0, 0], [1, 1, 0, 0, 4, 1, 0, 0], [0, 3, 1, 1, 0, 0, 0, 0], [1, 1, 1, 1, 0, 0, 1, 0], [4, 0, 0, 0, 1, 0, 0, 1], [4, 3, 4, 0, 1, 0, 0, 0], [2, 1, 1, 0, 0, 0, 4, 1], [2, 0, 2, 3, 4, 1, 1, 3], [1, 4, 3, 1, 0, 4, 0, 0], [2, 0, 0, 0, 3, 1, 3, 0], [4, 4, 4, 3, 1, 1, 1, 3], [0, 3, 1, 0, 0, 0, 0, 1], [4, 0, 0, 0, 4, 1, 3, 0], [4, 3, 4, 1, 3, 0, 1, 3], [1, 0, 0, 0, 2, 0, 1, 1], [1, 0, 0, 0, 4, 0, 1, 0], [4, 3, 0, 1, 4, 0, 1, 0, 0, 0, 4], [1, 1, 2, 0, 0, 0, 1, 1, 4, 4, 1], [1, 1, 0, 1, 0, 0, 0, 0, 0, 2, 0], [0, 0, 2, 3, 1, 1, 3, 1, 3, 1, 1], [1, 2, 1, 0, 0, 0, 1, 0, 0, 0, 0], [1, 2, 0, 0, 0, 4, 1, 0, 0, 0, 1], [1, 3, 1, 1, 4, 4, 4, 0, 0, 0, 1], [4, 1, 0, 1, 0, 0, 1, 0, 0, 0, 1], [4, 4, 0, 0, 0, 0, 0, 1, 1, 4, 4], [1, 1, 3, 0, 4, 0, 0, 2, 1, 2, 1], [0, 0, 0, 0, 0, 1, 0, 0, 0, 4, 0, 0], [2, 1, 0, 0, 0, 1, 3, 1, 4, 0, 2, 3], [1, 1, 3, 0, 0, 0, 0, 0, 0, 0, 1, 0], [2, 0, 0, 1, 0, 4, 4, 4, 1, 1, 1, 1, 0, 4], [1, 0, 0, 0, 2, 3, 1, 3, 0, 0, 1, 1, 1, 1], [4, 0, 0, 0, 4, 4, 0, 1, 0, 0, 2, 3, 0, 0],]\n",
        "TRAJECTORIES = [jnp.asarray(tr, dtype=int) for tr in TRAJECTORIES]"
      ]
    },
    {
      "cell_type": "markdown",
      "metadata": {
        "id": "j6QhLmzvziHB"
      },
      "source": [
        "**Problem:** How many trajectories have been collected in the data set? How long is the longest trajectory? How long is the shortest trajectory?"
      ]
    },
    {
      "cell_type": "code",
      "execution_count": null,
      "metadata": {
        "colab": {
          "base_uri": "https://localhost:8080/"
        },
        "id": "SWeivX6HzWrJ",
        "outputId": "73dd2bff-9880-4d1a-8e85-704a9859883d"
      },
      "outputs": [
        {
          "name": "stdout",
          "output_type": "stream",
          "text": [
            "105\n",
            "14\n",
            "2\n"
          ]
        }
      ],
      "source": [
        "print(len(TRAJECTORIES))\n",
        "print(max(len(tr) for tr in TRAJECTORIES))\n",
        "print(min(len(tr) for tr in TRAJECTORIES))"
      ]
    },
    {
      "cell_type": "markdown",
      "metadata": {
        "id": "h_86pDHJzyV6"
      },
      "source": [
        "## Markov chains\n",
        "\n",
        "We will make the following assumptions on the generative process for the sequence $\\mathbf{X} = (X_0, ..., X_{n-1})$:\n",
        "  - Bitney starts at a state $X_0$ chosen at random from the set $\\{0, 1, ..., K-1\\}$. We allow that some places are more likely to be drawn than others.\n",
        "  - Bitney selects a new place basing only on the previous place, i.e., $P(X_{t+1} \\mid X_t) = P(X_{t+1} \\mid X_0, X_1, \\dots, X_t)$.\n",
        "  - The transition matrix $P(X_{t+1} \\mid X_t)$ does not depend on $t$ or the total number of hours spent on campus $n$.\n",
        "\n",
        "In other words, we assume [a time-homogeneous discrete-time Markov chain](https://en.wikipedia.org/wiki/Discrete-time_Markov_chain#Variations).\n",
        "\n",
        "It is parameterized by:\n",
        "\n",
        "  - A vector $(\\pi_k)$ for $k \\in \\{0, 1, \\dots, K - 1\\}$ such that $\\pi_1 + \\cdots + \\pi_{K-1} = 1$. It parameterizes the distribution of the initial states: $P(X_0 = k) = \\pi_k$.\n",
        "  - A matrix $(T_{xy})$ for $x, y \\in \\{0, 1, \\dots, K-1\\}$ parameterising the transition matrix. Namely, $P( X_{t+1} = y \\mid X_{t} = x ) = T_{xy}$. Note that for each $x$ we have a constraint $T_{x,0} + T_{x,1} + \\cdots + T_{x,K-1}=1$.\n",
        "\n",
        "As typical in statistics and machine learning, it is more convenient to work with log-probabilities, i.e., keep $(\\log \\pi_k)$ and $(\\log T_{xy})$, rather than $(\\pi_k)$ and $(T_{xy})$.\n",
        "\n",
        "Let's simulate some example values, which will be useful for testing purposes:"
      ]
    },
    {
      "cell_type": "code",
      "execution_count": null,
      "metadata": {
        "colab": {
          "base_uri": "https://localhost:8080/"
        },
        "id": "25-pok6IzFN0",
        "outputId": "c06bb7b6-70b4-40a4-8235-60c12b4ab107"
      },
      "outputs": [
        {
          "name": "stdout",
          "output_type": "stream",
          "text": [
            "1.0\n",
            "[1.         1.         1.0000001  1.         0.99999994]\n"
          ]
        }
      ],
      "source": [
        "key = jax.random.PRNGKey(42)\n",
        "key, subkey1, subkey2 = jax.random.split(key, 3)\n",
        "\n",
        "K = 5  # Number of allowed states\n",
        "\n",
        "# Proportions vector, parameterising P(X_0)\n",
        "PI = jax.random.dirichlet(subkey1, alpha=2.0 * jnp.ones(K))\n",
        "# Transition matrix, parameterising P(X_{t+1} | X_t)\n",
        "TM = jax.random.dirichlet(subkey2, alpha= 2.0 * jnp.ones(K), shape=(K,))\n",
        "\n",
        "print(PI.sum())\n",
        "print(TM.sum(axis=1))\n",
        "\n",
        "LOG_PI = jnp.log(PI)\n",
        "LOG_TM = jnp.log(TM)"
      ]
    },
    {
      "cell_type": "markdown",
      "metadata": {
        "id": "pP0dyk9M0zQR"
      },
      "source": [
        "## Log-likelihood\n",
        "\n",
        "We need to estimate $\\pi$ and matrix $T$.\n",
        "To do this we introduce log-likelihood, describing the logarithm of the probability that a trajectory $\\mathbf{X} = (X_0, ..., X_{n-1})$ was sampled from the model with the provided parameters:\n",
        "\n",
        "$$\n",
        "    \\ell(\\pi, T; \\mathbf{X}) = \\log P( \\mathbf{X} \\mid \\pi, T) = \\log \\left( P(X_0\\mid \\pi) \\times \\prod_{t=1}^{n-1} P(X_t \\mid X_{t-1}, T) \\right) = \\log \\pi_{X_0} + \\sum_{t=1}^{n-1} \\log T_{X_{t-1}, X_t}.\n",
        "$$\n",
        "\n",
        "Notice that working with log-probabilities allows us to *sum numbers in reasonable ranges* (we don't expect log-probabilities to be outside of the $-1000$ to $0$ interval), rather than *multiplying a lot of small numbers* (which has a risk to result in $0$, when sufficiently many small floats are multiplied).\n",
        "\n",
        "**Problem:** Implement the loglikelihood function using the `for` loop in Python."
      ]
    },
    {
      "cell_type": "code",
      "execution_count": null,
      "metadata": {
        "colab": {
          "base_uri": "https://localhost:8080/"
        },
        "id": "Apeq8nbC1UFZ",
        "outputId": "1ede703f-27de-46cf-b47a-b6d30b780fde"
      },
      "outputs": [
        {
          "name": "stdout",
          "output_type": "stream",
          "text": [
            "Your implementation gave: -4.21. Should give -4.21.\n"
          ]
        }
      ],
      "source": [
        "from jaxtyping import Int, Float, Array\n",
        "\n",
        "\n",
        "def loglikelihood_for_loop(\n",
        "    trajectory: Int[Array, \" n\"],\n",
        "    log_tm: Float[Array, \"K K\"],\n",
        "    log_pi: Float[Array, \" K\"],\n",
        ") -> float:\n",
        "    \"\"\"Calculates the likelihood for a single trajectory.\"\"\"\n",
        "\n",
        "    # raise NotImplementedError(\"Implement the loglikelihood using the `for` loop.\")\n",
        "\n",
        "    loglike = log_pi[trajectory[0]]\n",
        "    for i in range(1, len(trajectory)):\n",
        "        last, current = trajectory[i-1], trajectory[i]\n",
        "        loglike += log_tm[last, current]\n",
        "\n",
        "    return loglike\n",
        "\n",
        "answer = -4.21\n",
        "\n",
        "print(f\"Your implementation gave: {loglikelihood_for_loop(TRAJECTORIES[0], LOG_TM, LOG_PI):.2f}. Should give {answer:.2f}.\")"
      ]
    },
    {
      "cell_type": "markdown",
      "metadata": {
        "id": "2a0L5lIm2hUg"
      },
      "source": [
        "Nice! This is Python code which you can trust. We can use it as a baseline for testing future improvements. Speaking of which...\n",
        "\n",
        "### Does JAX like `for` loops?\n",
        "\n",
        "No. It can tolerate them, but the `for` loops are not really that welcome: they get unrolled into multiple operations.\n",
        "\n",
        "**Problem:** Compare Jaxprs corresponding to a short and a long trajectory. What can you notice?"
      ]
    },
    {
      "cell_type": "code",
      "execution_count": null,
      "metadata": {
        "colab": {
          "base_uri": "https://localhost:8080/"
        },
        "id": "wGHaTNCd16e7",
        "outputId": "4b5fdd94-6ae0-4e63-869f-7f64c7b903e6"
      },
      "outputs": [
        {
          "name": "stdout",
          "output_type": "stream",
          "text": [
            "Short trajectory\n",
            "================\n",
            "{ lambda ; a:i32[2] b:f32[5,5] c:f32[5]. let\n",
            "    d:i32[1] = slice[limit_indices=(1,) start_indices=(0,) strides=None] a\n",
            "    e:i32[] = squeeze[dimensions=(0,)] d\n",
            "    f:bool[] = lt e 0\n",
            "    g:i32[] = add e 5\n",
            "    h:i32[] = select_n f e g\n",
            "    i:f32[1] = dynamic_slice[slice_sizes=(1,)] c h\n",
            "    j:f32[] = squeeze[dimensions=(0,)] i\n",
            "    k:i32[1] = slice[limit_indices=(1,) start_indices=(0,) strides=None] a\n",
            "    l:i32[] = squeeze[dimensions=(0,)] k\n",
            "    m:i32[1] = slice[limit_indices=(2,) start_indices=(1,) strides=None] a\n",
            "    n:i32[] = squeeze[dimensions=(0,)] m\n",
            "    o:bool[] = lt l 0\n",
            "    p:i32[] = add l 5\n",
            "    q:i32[] = select_n o l p\n",
            "    r:bool[] = lt n 0\n",
            "    s:i32[] = add n 5\n",
            "    t:i32[] = select_n r n s\n",
            "    u:f32[1,1] = dynamic_slice[slice_sizes=(1, 1)] b q t\n",
            "    v:f32[] = squeeze[dimensions=(0, 1)] u\n",
            "    w:f32[] = add j v\n",
            "  in (w,) }\n",
            "\n",
            "\n",
            "\n",
            "\n",
            "Long trajectory\n",
            "=============\n",
            "{ lambda ; a:i32[14] b:f32[5,5] c:f32[5]. let\n",
            "    d:i32[1] = slice[limit_indices=(1,) start_indices=(0,) strides=None] a\n",
            "    e:i32[] = squeeze[dimensions=(0,)] d\n",
            "    f:bool[] = lt e 0\n",
            "    g:i32[] = add e 5\n",
            "    h:i32[] = select_n f e g\n",
            "    i:f32[1] = dynamic_slice[slice_sizes=(1,)] c h\n",
            "    j:f32[] = squeeze[dimensions=(0,)] i\n",
            "    k:i32[1] = slice[limit_indices=(1,) start_indices=(0,) strides=None] a\n",
            "    l:i32[] = squeeze[dimensions=(0,)] k\n",
            "    m:i32[1] = slice[limit_indices=(2,) start_indices=(1,) strides=None] a\n",
            "    n:i32[] = squeeze[dimensions=(0,)] m\n",
            "    o:bool[] = lt l 0\n",
            "    p:i32[] = add l 5\n",
            "    q:i32[] = select_n o l p\n",
            "    r:bool[] = lt n 0\n",
            "    s:i32[] = add n 5\n",
            "    t:i32[] = select_n r n s\n",
            "    u:f32[1,1] = dynamic_slice[slice_sizes=(1, 1)] b q t\n",
            "    v:f32[] = squeeze[dimensions=(0, 1)] u\n",
            "    w:f32[] = add j v\n",
            "    x:i32[1] = slice[limit_indices=(2,) start_indices=(1,) strides=None] a\n",
            "    y:i32[] = squeeze[dimensions=(0,)] x\n",
            "    z:i32[1] = slice[limit_indices=(3,) start_indices=(2,) strides=None] a\n",
            "    ba:i32[] = squeeze[dimensions=(0,)] z\n",
            "    bb:bool[] = lt y 0\n",
            "    bc:i32[] = add y 5\n",
            "    bd:i32[] = select_n bb y bc\n",
            "    be:bool[] = lt ba 0\n",
            "    bf:i32[] = add ba 5\n",
            "    bg:i32[] = select_n be ba bf\n",
            "    bh:f32[1,1] = dynamic_slice[slice_sizes=(1, 1)] b bd bg\n",
            "    bi:f32[] = squeeze[dimensions=(0, 1)] bh\n",
            "    bj:f32[] = add w bi\n",
            "    bk:i32[1] = slice[limit_indices=(3,) start_indices=(2,) strides=None] a\n",
            "    bl:i32[] = squeeze[dimensions=(0,)] bk\n",
            "    bm:i32[1] = slice[limit_indices=(4,) start_indices=(3,) strides=None] a\n",
            "    bn:i32[] = squeeze[dimensions=(0,)] bm\n",
            "    bo:bool[] = lt bl 0\n",
            "    bp:i32[] = add bl 5\n",
            "    bq:i32[] = select_n bo bl bp\n",
            "    br:bool[] = lt bn 0\n",
            "    bs:i32[] = add bn 5\n",
            "    bt:i32[] = select_n br bn bs\n",
            "    bu:f32[1,1] = dynamic_slice[slice_sizes=(1, 1)] b bq bt\n",
            "    bv:f32[] = squeeze[dimensions=(0, 1)] bu\n",
            "    bw:f32[] = add bj bv\n",
            "    bx:i32[1] = slice[limit_indices=(4,) start_indices=(3,) strides=None] a\n",
            "    by:i32[] = squeeze[dimensions=(0,)] bx\n",
            "    bz:i32[1] = slice[limit_indices=(5,) start_indices=(4,) strides=None] a\n",
            "    ca:i32[] = squeeze[dimensions=(0,)] bz\n",
            "    cb:bool[] = lt by 0\n",
            "    cc:i32[] = add by 5\n",
            "    cd:i32[] = select_n cb by cc\n",
            "    ce:bool[] = lt ca 0\n",
            "    cf:i32[] = add ca 5\n",
            "    cg:i32[] = select_n ce ca cf\n",
            "    ch:f32[1,1] = dynamic_slice[slice_sizes=(1, 1)] b cd cg\n",
            "    ci:f32[] = squeeze[dimensions=(0, 1)] ch\n",
            "    cj:f32[] = add bw ci\n",
            "    ck:i32[1] = slice[limit_indices=(5,) start_indices=(4,) strides=None] a\n",
            "    cl:i32[] = squeeze[dimensions=(0,)] ck\n",
            "    cm:i32[1] = slice[limit_indices=(6,) start_indices=(5,) strides=None] a\n",
            "    cn:i32[] = squeeze[dimensions=(0,)] cm\n",
            "    co:bool[] = lt cl 0\n",
            "    cp:i32[] = add cl 5\n",
            "    cq:i32[] = select_n co cl cp\n",
            "    cr:bool[] = lt cn 0\n",
            "    cs:i32[] = add cn 5\n",
            "    ct:i32[] = select_n cr cn cs\n",
            "    cu:f32[1,1] = dynamic_slice[slice_sizes=(1, 1)] b cq ct\n",
            "    cv:f32[] = squeeze[dimensions=(0, 1)] cu\n",
            "    cw:f32[] = add cj cv\n",
            "    cx:i32[1] = slice[limit_indices=(6,) start_indices=(5,) strides=None] a\n",
            "    cy:i32[] = squeeze[dimensions=(0,)] cx\n",
            "    cz:i32[1] = slice[limit_indices=(7,) start_indices=(6,) strides=None] a\n",
            "    da:i32[] = squeeze[dimensions=(0,)] cz\n",
            "    db:bool[] = lt cy 0\n",
            "    dc:i32[] = add cy 5\n",
            "    dd:i32[] = select_n db cy dc\n",
            "    de:bool[] = lt da 0\n",
            "    df:i32[] = add da 5\n",
            "    dg:i32[] = select_n de da df\n",
            "    dh:f32[1,1] = dynamic_slice[slice_sizes=(1, 1)] b dd dg\n",
            "    di:f32[] = squeeze[dimensions=(0, 1)] dh\n",
            "    dj:f32[] = add cw di\n",
            "    dk:i32[1] = slice[limit_indices=(7,) start_indices=(6,) strides=None] a\n",
            "    dl:i32[] = squeeze[dimensions=(0,)] dk\n",
            "    dm:i32[1] = slice[limit_indices=(8,) start_indices=(7,) strides=None] a\n",
            "    dn:i32[] = squeeze[dimensions=(0,)] dm\n",
            "    do:bool[] = lt dl 0\n",
            "    dp:i32[] = add dl 5\n",
            "    dq:i32[] = select_n do dl dp\n",
            "    dr:bool[] = lt dn 0\n",
            "    ds:i32[] = add dn 5\n",
            "    dt:i32[] = select_n dr dn ds\n",
            "    du:f32[1,1] = dynamic_slice[slice_sizes=(1, 1)] b dq dt\n",
            "    dv:f32[] = squeeze[dimensions=(0, 1)] du\n",
            "    dw:f32[] = add dj dv\n",
            "    dx:i32[1] = slice[limit_indices=(8,) start_indices=(7,) strides=None] a\n",
            "    dy:i32[] = squeeze[dimensions=(0,)] dx\n",
            "    dz:i32[1] = slice[limit_indices=(9,) start_indices=(8,) strides=None] a\n",
            "    ea:i32[] = squeeze[dimensions=(0,)] dz\n",
            "    eb:bool[] = lt dy 0\n",
            "    ec:i32[] = add dy 5\n",
            "    ed:i32[] = select_n eb dy ec\n",
            "    ee:bool[] = lt ea 0\n",
            "    ef:i32[] = add ea 5\n",
            "    eg:i32[] = select_n ee ea ef\n",
            "    eh:f32[1,1] = dynamic_slice[slice_sizes=(1, 1)] b ed eg\n",
            "    ei:f32[] = squeeze[dimensions=(0, 1)] eh\n",
            "    ej:f32[] = add dw ei\n",
            "    ek:i32[1] = slice[limit_indices=(9,) start_indices=(8,) strides=None] a\n",
            "    el:i32[] = squeeze[dimensions=(0,)] ek\n",
            "    em:i32[1] = slice[limit_indices=(10,) start_indices=(9,) strides=None] a\n",
            "    en:i32[] = squeeze[dimensions=(0,)] em\n",
            "    eo:bool[] = lt el 0\n",
            "    ep:i32[] = add el 5\n",
            "    eq:i32[] = select_n eo el ep\n",
            "    er:bool[] = lt en 0\n",
            "    es:i32[] = add en 5\n",
            "    et:i32[] = select_n er en es\n",
            "    eu:f32[1,1] = dynamic_slice[slice_sizes=(1, 1)] b eq et\n",
            "    ev:f32[] = squeeze[dimensions=(0, 1)] eu\n",
            "    ew:f32[] = add ej ev\n",
            "    ex:i32[1] = slice[limit_indices=(10,) start_indices=(9,) strides=None] a\n",
            "    ey:i32[] = squeeze[dimensions=(0,)] ex\n",
            "    ez:i32[1] = slice[limit_indices=(11,) start_indices=(10,) strides=None] a\n",
            "    fa:i32[] = squeeze[dimensions=(0,)] ez\n",
            "    fb:bool[] = lt ey 0\n",
            "    fc:i32[] = add ey 5\n",
            "    fd:i32[] = select_n fb ey fc\n",
            "    fe:bool[] = lt fa 0\n",
            "    ff:i32[] = add fa 5\n",
            "    fg:i32[] = select_n fe fa ff\n",
            "    fh:f32[1,1] = dynamic_slice[slice_sizes=(1, 1)] b fd fg\n",
            "    fi:f32[] = squeeze[dimensions=(0, 1)] fh\n",
            "    fj:f32[] = add ew fi\n",
            "    fk:i32[1] = slice[limit_indices=(11,) start_indices=(10,) strides=None] a\n",
            "    fl:i32[] = squeeze[dimensions=(0,)] fk\n",
            "    fm:i32[1] = slice[limit_indices=(12,) start_indices=(11,) strides=None] a\n",
            "    fn:i32[] = squeeze[dimensions=(0,)] fm\n",
            "    fo:bool[] = lt fl 0\n",
            "    fp:i32[] = add fl 5\n",
            "    fq:i32[] = select_n fo fl fp\n",
            "    fr:bool[] = lt fn 0\n",
            "    fs:i32[] = add fn 5\n",
            "    ft:i32[] = select_n fr fn fs\n",
            "    fu:f32[1,1] = dynamic_slice[slice_sizes=(1, 1)] b fq ft\n",
            "    fv:f32[] = squeeze[dimensions=(0, 1)] fu\n",
            "    fw:f32[] = add fj fv\n",
            "    fx:i32[1] = slice[limit_indices=(12,) start_indices=(11,) strides=None] a\n",
            "    fy:i32[] = squeeze[dimensions=(0,)] fx\n",
            "    fz:i32[1] = slice[limit_indices=(13,) start_indices=(12,) strides=None] a\n",
            "    ga:i32[] = squeeze[dimensions=(0,)] fz\n",
            "    gb:bool[] = lt fy 0\n",
            "    gc:i32[] = add fy 5\n",
            "    gd:i32[] = select_n gb fy gc\n",
            "    ge:bool[] = lt ga 0\n",
            "    gf:i32[] = add ga 5\n",
            "    gg:i32[] = select_n ge ga gf\n",
            "    gh:f32[1,1] = dynamic_slice[slice_sizes=(1, 1)] b gd gg\n",
            "    gi:f32[] = squeeze[dimensions=(0, 1)] gh\n",
            "    gj:f32[] = add fw gi\n",
            "    gk:i32[1] = slice[limit_indices=(13,) start_indices=(12,) strides=None] a\n",
            "    gl:i32[] = squeeze[dimensions=(0,)] gk\n",
            "    gm:i32[1] = slice[limit_indices=(14,) start_indices=(13,) strides=None] a\n",
            "    gn:i32[] = squeeze[dimensions=(0,)] gm\n",
            "    go:bool[] = lt gl 0\n",
            "    gp:i32[] = add gl 5\n",
            "    gq:i32[] = select_n go gl gp\n",
            "    gr:bool[] = lt gn 0\n",
            "    gs:i32[] = add gn 5\n",
            "    gt:i32[] = select_n gr gn gs\n",
            "    gu:f32[1,1] = dynamic_slice[slice_sizes=(1, 1)] b gq gt\n",
            "    gv:f32[] = squeeze[dimensions=(0, 1)] gu\n",
            "    gw:f32[] = add gj gv\n",
            "  in (gw,) }\n"
          ]
        }
      ],
      "source": [
        "short_trajectory = TRAJECTORIES[0]\n",
        "long_trajectory = TRAJECTORIES[-1]\n",
        "\n",
        "print(f\"Short trajectory\\n================\\n{jax.make_jaxpr(loglikelihood_for_loop)(short_trajectory, LOG_TM, LOG_PI)}\")\n",
        "\n",
        "print(f\"\\n\\n\\n\\nLong trajectory\\n=============\\n{jax.make_jaxpr(loglikelihood_for_loop)(long_trajectory, LOG_TM, LOG_PI)}\")"
      ]
    },
    {
      "cell_type": "markdown",
      "metadata": {
        "id": "l5-or_JV3Lzu"
      },
      "source": [
        "We are fortunate that Bitney measures time in hours (so that we don't expect sequences longer than 24). But in case he changes the unit to, say, 5 minutes, we will be in a big trouble!\n",
        "We need to replace the `for` loop using a JAX-native concept.\n",
        "\n",
        "### Using the `jax.lax.scan` loops\n",
        "\n",
        "Fortunately, there is a [`jax.lax.scan`](https://jax.readthedocs.io/en/latest/_autosummary/jax.lax.scan.html) loop which can be used here!\n",
        "\n",
        "Its signature is, roughly, the following:\n",
        "\n",
        "```python\n",
        "def scan(f, init, xs):\n",
        "  carry = init\n",
        "  ys = []\n",
        "  \n",
        "  for x in xs:\n",
        "    carry, y = f(carry, x)\n",
        "    ys.append(y)\n",
        "\n",
        "  return carry, np.stack(ys)\n",
        "```\n",
        "\n",
        "We can use it to replace the `for` loop by carrying over the previous state.\n",
        "\n",
        "#### First example\n",
        "For example, say that we want to calculate $1^1 + 2^2 + \\cdots + 5^5$. We can do it via the `for` loop or an equivalent `jax.lax.scan`:"
      ]
    },
    {
      "cell_type": "code",
      "execution_count": null,
      "metadata": {
        "colab": {
          "base_uri": "https://localhost:8080/"
        },
        "id": "hV1I8FeR3Uij",
        "outputId": "fdbade77-9899-48b0-f187-dfe11bf2ab7a"
      },
      "outputs": [
        {
          "name": "stdout",
          "output_type": "stream",
          "text": [
            "Calculated using `for`: 3413\n",
            "Calculated using `jax.lax.scan`: 3413\n"
          ]
        }
      ],
      "source": [
        "s = 0\n",
        "for i in range(1, 5 + 1):\n",
        "    s += i**i\n",
        "\n",
        "print(f\"Calculated using `for`: {s}\")\n",
        "\n",
        "def scan_fn(carry, current):\n",
        "    return carry + jnp.power(current, current), None\n",
        "\n",
        "s, _ = jax.lax.scan(scan_fn, 0, jnp.arange(1, 5 + 1))\n",
        "\n",
        "print(f\"Calculated using `jax.lax.scan`: {s}\")"
      ]
    },
    {
      "cell_type": "markdown",
      "metadata": {
        "id": "qlt8LdoI3el3"
      },
      "source": [
        "#### Second example\n",
        "In the example above we were interested in just the last sum. What if we wanted to calculate the sums $1^1 + 2^2 + \\cdots + n^n$ for all $n\\le 5$?"
      ]
    },
    {
      "cell_type": "code",
      "execution_count": null,
      "metadata": {
        "colab": {
          "base_uri": "https://localhost:8080/"
        },
        "id": "8dmKyoQO3bZ7",
        "outputId": "fb14188e-3222-45be-a9b1-03120fa9f345"
      },
      "outputs": [
        {
          "name": "stdout",
          "output_type": "stream",
          "text": [
            "Calculated using `for`: [1, 5, 32, 288, 3413]\n",
            "Calculated using `jax.lax.scan`: [   1    5   32  288 3413]\n"
          ]
        }
      ],
      "source": [
        "s = 0\n",
        "ys = []\n",
        "for i in range(1, 5 + 1):\n",
        "    s += i**i\n",
        "    ys.append(s)\n",
        "\n",
        "print(f\"Calculated using `for`: {ys}\")\n",
        "\n",
        "def scan_fn(carry, current):\n",
        "    u = carry + jnp.power(current, current)\n",
        "    return u, u\n",
        "\n",
        "_, ys = jax.lax.scan(scan_fn, 0, jnp.arange(1, 5 + 1))\n",
        "\n",
        "print(f\"Calculated using `jax.lax.scan`: {ys}\")"
      ]
    },
    {
      "cell_type": "markdown",
      "metadata": {
        "id": "b9D6oNiP3meI"
      },
      "source": [
        "#### Back to our problem\n",
        "\n",
        "Now we are ready to implement the loglikelihood calculation replacing the `for` loop with an appropriate `jax.lax.scan`.\n",
        "\n",
        "**Problem:** Write the body of the function:"
      ]
    },
    {
      "cell_type": "code",
      "execution_count": null,
      "metadata": {
        "colab": {
          "base_uri": "https://localhost:8080/"
        },
        "id": "VmokiyvG3jF0",
        "outputId": "9b684db0-3fe7-43d7-aae3-6ceed4d68bec"
      },
      "outputs": [
        {
          "name": "stdout",
          "output_type": "stream",
          "text": [
            "Loglikelihood comparison: -4.21 =?= -4.21\n",
            "Loglikelihood comparison: -2.37 =?= -2.37\n",
            "Loglikelihood comparison: -6.10 =?= -6.10\n",
            "Loglikelihood comparison: -28.41 =?= -28.41\n"
          ]
        }
      ],
      "source": [
        "def loglikelihood_scan(\n",
        "    trajectory: Int[Array, \" n\"],\n",
        "    log_tm: Float[Array, \"K K\"],\n",
        "    log_pi: Float[Array, \" K\"],\n",
        ") -> float:\n",
        "    \"\"\"Calculates the likelihood for a single trajectory using `jax.lax.scan`.\"\"\"\n",
        "\n",
        "    def scan_fn(carry, current):\n",
        "        last, loglike = carry\n",
        "        loglike += log_tm[last, current]\n",
        "        return (current, loglike), None\n",
        "\n",
        "    # The carry will be the previous state and the sum of the previous log-likelihoods\n",
        "    initial_carry = (trajectory[0], log_pi[trajectory[0]])\n",
        "    final_carry, _ = jax.lax.scan(scan_fn, initial_carry, trajectory[1:])\n",
        "\n",
        "    return final_carry[1]\n",
        "\n",
        "\n",
        "# Test if the implementation agrees with the previous one:\n",
        "for index in [0, 4, 10, -1]:\n",
        "    trajectory = TRAJECTORIES[index]\n",
        "    ll_for = loglikelihood_for_loop(trajectory, LOG_TM, LOG_PI)\n",
        "    ll_scan = loglikelihood_scan(trajectory, LOG_TM, LOG_PI)\n",
        "    print(f\"Loglikelihood comparison: {ll_for:.2f} =?= {ll_scan:.2f}\")"
      ]
    },
    {
      "cell_type": "markdown",
      "metadata": {
        "id": "KrPCLcAw38A7"
      },
      "source": [
        "Nice, we have a JAX-compatible loglikelihood!\n",
        "\n",
        "**Problem:** How does the Jaxpr of the new implementation look like? Does its length changes with the length of the trajectory?"
      ]
    },
    {
      "cell_type": "code",
      "execution_count": null,
      "metadata": {
        "colab": {
          "base_uri": "https://localhost:8080/"
        },
        "id": "bP99tIWo33ID",
        "outputId": "ea541d54-cacd-4760-fd02-bade95825559"
      },
      "outputs": [
        {
          "name": "stdout",
          "output_type": "stream",
          "text": [
            "Short trajectory\n",
            "================\n",
            "{ lambda ; a:i32[2] b:f32[5,5] c:f32[5]. let\n",
            "    d:i32[1] = slice[limit_indices=(1,) start_indices=(0,) strides=None] a\n",
            "    e:i32[] = squeeze[dimensions=(0,)] d\n",
            "    f:i32[1] = slice[limit_indices=(1,) start_indices=(0,) strides=None] a\n",
            "    g:i32[] = squeeze[dimensions=(0,)] f\n",
            "    h:bool[] = lt g 0\n",
            "    i:i32[] = add g 5\n",
            "    j:i32[] = select_n h g i\n",
            "    k:f32[1] = dynamic_slice[slice_sizes=(1,)] c j\n",
            "    l:f32[] = squeeze[dimensions=(0,)] k\n",
            "    m:i32[1] = slice[limit_indices=(2,) start_indices=(1,) strides=None] a\n",
            "    _:i32[] n:f32[] = scan[\n",
            "      _split_transpose=False\n",
            "      jaxpr={ lambda ; o:f32[5,5] p:i32[] q:f32[] r:i32[]. let\n",
            "          s:bool[] = lt p 0\n",
            "          t:i32[] = add p 5\n",
            "          u:i32[] = select_n s p t\n",
            "          v:bool[] = lt r 0\n",
            "          w:i32[] = add r 5\n",
            "          x:i32[] = select_n v r w\n",
            "          y:f32[1,1] = dynamic_slice[slice_sizes=(1, 1)] o u x\n",
            "          z:f32[] = squeeze[dimensions=(0, 1)] y\n",
            "          ba:f32[] = add q z\n",
            "        in (r, ba) }\n",
            "      length=1\n",
            "      linear=(False, False, False, False)\n",
            "      num_carry=2\n",
            "      num_consts=1\n",
            "      reverse=False\n",
            "      unroll=1\n",
            "    ] b e l m\n",
            "  in (n,) }\n",
            "\n",
            "\n",
            "\n",
            "\n",
            "Long trajectory\n",
            "=============\n",
            "{ lambda ; a:i32[14] b:f32[5,5] c:f32[5]. let\n",
            "    d:i32[1] = slice[limit_indices=(1,) start_indices=(0,) strides=None] a\n",
            "    e:i32[] = squeeze[dimensions=(0,)] d\n",
            "    f:i32[1] = slice[limit_indices=(1,) start_indices=(0,) strides=None] a\n",
            "    g:i32[] = squeeze[dimensions=(0,)] f\n",
            "    h:bool[] = lt g 0\n",
            "    i:i32[] = add g 5\n",
            "    j:i32[] = select_n h g i\n",
            "    k:f32[1] = dynamic_slice[slice_sizes=(1,)] c j\n",
            "    l:f32[] = squeeze[dimensions=(0,)] k\n",
            "    m:i32[13] = slice[limit_indices=(14,) start_indices=(1,) strides=None] a\n",
            "    _:i32[] n:f32[] = scan[\n",
            "      _split_transpose=False\n",
            "      jaxpr={ lambda ; o:f32[5,5] p:i32[] q:f32[] r:i32[]. let\n",
            "          s:bool[] = lt p 0\n",
            "          t:i32[] = add p 5\n",
            "          u:i32[] = select_n s p t\n",
            "          v:bool[] = lt r 0\n",
            "          w:i32[] = add r 5\n",
            "          x:i32[] = select_n v r w\n",
            "          y:f32[1,1] = dynamic_slice[slice_sizes=(1, 1)] o u x\n",
            "          z:f32[] = squeeze[dimensions=(0, 1)] y\n",
            "          ba:f32[] = add q z\n",
            "        in (r, ba) }\n",
            "      length=13\n",
            "      linear=(False, False, False, False)\n",
            "      num_carry=2\n",
            "      num_consts=1\n",
            "      reverse=False\n",
            "      unroll=1\n",
            "    ] b e l m\n",
            "  in (n,) }\n"
          ]
        }
      ],
      "source": [
        "print(f\"Short trajectory\\n================\\n{jax.make_jaxpr(loglikelihood_scan)(short_trajectory, LOG_TM, LOG_PI)}\")\n",
        "\n",
        "print(f\"\\n\\n\\n\\nLong trajectory\\n=============\\n{jax.make_jaxpr(loglikelihood_scan)(long_trajectory, LOG_TM, LOG_PI)}\")"
      ]
    },
    {
      "cell_type": "markdown",
      "metadata": {
        "id": "q7UQL8fB4J5F"
      },
      "source": [
        "## Total loglikelihood\n",
        "\n",
        "We have defined the loglikelihood function for a single data point. As in our case we have multiple trajectories, we should use all of them. Assuming that trajectories are independent given the model parameters, we have:\n",
        "$$\n",
        "    P\\left( \\mathbf{X}^{(1)}, \\dotsc, \\mathbf{X}^{(M)} \\mid \\pi, T \\right) = \\prod_{m=1}^M P( \\mathbf{X}^{(m)} \\mid \\pi, T),\n",
        "$$\n",
        "\n",
        "so that the total loglikelihood is given by the sum of individual loglikelihoods:\n",
        "\n",
        "\n",
        "$$\n",
        "    \\ell(\\pi, T; \\text{all data}) = \\sum_{m=1}^M  \\ell(\\pi, T; \\mathbf{X}^{(m)}).\n",
        "$$\n",
        "\n",
        "Summation in JAX is easy, isn't it? We can use [`jax.vmap`](https://jax.readthedocs.io/en/latest/_autosummary/jax.vmap.html) to calculate loglikelihoods for individual trajectories and then sum them:"
      ]
    },
    {
      "cell_type": "code",
      "execution_count": null,
      "metadata": {
        "colab": {
          "base_uri": "https://localhost:8080/"
        },
        "id": "DrRyWFVn4HJe",
        "outputId": "821997a0-f8b9-4140-d877-5b24c382f7d2"
      },
      "outputs": [
        {
          "data": {
            "text/plain": [
              "Array(-16.214138, dtype=float32)"
            ]
          },
          "execution_count": 24,
          "metadata": {},
          "output_type": "execute_result"
        }
      ],
      "source": [
        "def calculate_total_loglikelihood_simple_vmap(\n",
        "    trajectories,\n",
        "    log_tm: Float[Array, \"K K\"],\n",
        "    log_pi: Float[Array, \" K\"],\n",
        ") -> float:\n",
        "    # Apply loglikelihood for different trajectories, using the same `log_tm` and `log_pi`:\n",
        "    lls = jax.vmap(loglikelihood_scan, in_axes=(0, None, None))(trajectories, log_tm, log_pi)\n",
        "    return jnp.sum(lls)\n",
        "\n",
        "\n",
        "# Check if it works on a few trajectories\n",
        "calculate_total_loglikelihood_simple_vmap(\n",
        "    jnp.asarray(TRAJECTORIES[:5]),\n",
        "    LOG_TM,\n",
        "    LOG_PI,\n",
        ")"
      ]
    },
    {
      "cell_type": "markdown",
      "metadata": {
        "id": "qBqfWNT54bc3"
      },
      "source": [
        "Let's now calculate the loglikelihood for all trajectories:"
      ]
    },
    {
      "cell_type": "code",
      "execution_count": null,
      "metadata": {
        "colab": {
          "base_uri": "https://localhost:8080/"
        },
        "id": "hAILdA3A4bL2",
        "outputId": "33c64d2a-a321-45cc-fbda-1bfa421335a7"
      },
      "outputs": [
        {
          "name": "stdout",
          "output_type": "stream",
          "text": [
            "All input arrays must have the same shape.\n"
          ]
        }
      ],
      "source": [
        "try:\n",
        "  calculate_total_loglikelihood_simple_vmap(\n",
        "      jnp.asarray(TRAJECTORIES),\n",
        "      LOG_TM,\n",
        "      LOG_PI,\n",
        "  )\n",
        "except ValueError as e:\n",
        "  print(e)"
      ]
    },
    {
      "cell_type": "markdown",
      "metadata": {
        "id": "mLydVx5Q4gwB"
      },
      "source": [
        "Oh no, an error! Recall that the `trajectories` is a *list* of arrays which have different lengths. We cannot use `jnp.asarray` to wrap them into a single array...\n",
        "\n",
        "### The `for` loop to the rescue\n",
        "\n",
        "Perhaps we should just use the `for` loop to iterate over the trajectories. Of course, the corresponding Jaxpr is going to be scary, but:\n",
        "  - (a) We'll have a working \"baseline\" solution, which we can use to test any further improvements.\n",
        "  - (b) For just a few trajectories this *may actually be fine*. Later we'll learn the padding technique (which is the preferred solution in this case), but which is not universal – you may work on interesting problems in which padding won't be possible. Then one either has to accept a scary Jaxpr or switch to another fast language, which works better with objects of different lengths (e.g., Rust or Julia).\n",
        "\n",
        "**Problem:** Calculate the total loglikelihood using the `for` loop:"
      ]
    },
    {
      "cell_type": "code",
      "execution_count": null,
      "metadata": {
        "colab": {
          "base_uri": "https://localhost:8080/"
        },
        "id": "pU9j71vh4usk",
        "outputId": "92aab033-f9f5-46ca-f4b3-48756c38fdec"
      },
      "outputs": [
        {
          "name": "stdout",
          "output_type": "stream",
          "text": [
            "Total loglikelihood: -1357.48\n"
          ]
        }
      ],
      "source": [
        "def calculate_total_loglikelihood_for_loop(\n",
        "    trajectories: list,\n",
        "    log_tm: Float[Array, \"K K\"],\n",
        "    log_pi: Float[Array, \" K\"],\n",
        ") -> float:\n",
        "    s = 0\n",
        "    for xs in trajectories:\n",
        "        s += loglikelihood_scan(xs, log_tm, log_pi)\n",
        "    return s\n",
        "\n",
        "print(f\"Total loglikelihood: {float(calculate_total_loglikelihood_for_loop(TRAJECTORIES, LOG_TM, LOG_PI)):.2f}\")"
      ]
    },
    {
      "cell_type": "markdown",
      "metadata": {
        "id": "ghfLPdl75Fv6"
      },
      "source": [
        "We can check how fast this is:"
      ]
    },
    {
      "cell_type": "code",
      "execution_count": null,
      "metadata": {
        "colab": {
          "base_uri": "https://localhost:8080/"
        },
        "id": "ANRLjTsd5CSY",
        "outputId": "164b137a-8947-4c57-a418-4bf3ca734373"
      },
      "outputs": [
        {
          "name": "stdout",
          "output_type": "stream",
          "text": [
            "CPU times: user 7.31 s, sys: 150 ms, total: 7.46 s\n",
            "Wall time: 11.6 s\n"
          ]
        },
        {
          "data": {
            "text/plain": [
              "Array(-1357.4761, dtype=float32)"
            ]
          },
          "execution_count": 27,
          "metadata": {},
          "output_type": "execute_result"
        }
      ],
      "source": [
        "%time calculate_total_loglikelihood_for_loop(TRAJECTORIES, LOG_TM, LOG_PI).block_until_ready()"
      ]
    },
    {
      "cell_type": "markdown",
      "metadata": {
        "id": "7ipgLZYS5MI7"
      },
      "source": [
        "Ok, this actually takes quite a long time. However, if we know that the trajectories won't change often (e.g., we are using full-batch gradient descent, rather than stochastic gradient descent for optimisation), we can compile with JIT a [partial application](https://en.wikipedia.org/wiki/Partial_application):"
      ]
    },
    {
      "cell_type": "code",
      "execution_count": null,
      "metadata": {
        "colab": {
          "base_uri": "https://localhost:8080/"
        },
        "id": "_9GPy21s5M3f",
        "outputId": "d392eddd-2611-40f9-f2ee-463152dbbbff"
      },
      "outputs": [
        {
          "name": "stdout",
          "output_type": "stream",
          "text": [
            "Total loglikelihood: -1357.48\n",
            "29.1 µs ± 556 ns per loop (mean ± std. dev. of 7 runs, 10000 loops each)\n"
          ]
        }
      ],
      "source": [
        "# Fix the first argument\n",
        "@jax.jit\n",
        "def f(\n",
        "    log_tm: Float[Array, \"K K\"],\n",
        "    log_pi: Float[Array, \" K\"],\n",
        ") -> float:\n",
        "    return calculate_total_loglikelihood_for_loop(TRAJECTORIES, log_tm, log_pi)\n",
        "\n",
        "\n",
        "# Run it once to compile the function\n",
        "print(f\"Total loglikelihood: {float(f(LOG_TM, LOG_PI)):.2f}\")\n",
        "\n",
        "# Run it several times\n",
        "%timeit f(LOG_TM, LOG_PI).block_until_ready()"
      ]
    },
    {
      "cell_type": "markdown",
      "metadata": {
        "id": "FiTVdZI55r6G"
      },
      "source": [
        "This is not bad – doing a few millions of gradient steps is manageable.\n",
        "Before we go any further, let's quickly take a look at another implementation.\n",
        "\n",
        "### Digression: traversing Pytrees\n",
        "\n",
        "The `TRAJECTORIES` object is a `list` of arrays. Nested lists, tuples, and dictionaries, which leaves are arrays, are called [Pytrees](https://jax.readthedocs.io/en/latest/pytrees.html).\n",
        "\n",
        "We can convert a Pytree of trajectories into a Pytree of loglikelihoods using `jax.tree.map` function:"
      ]
    },
    {
      "cell_type": "code",
      "execution_count": null,
      "metadata": {
        "colab": {
          "base_uri": "https://localhost:8080/"
        },
        "id": "j6V6C0vG5y3c",
        "outputId": "e5ad49b6-2ca6-4b1b-9f98-5c68ca2f52ea"
      },
      "outputs": [
        {
          "name": "stdout",
          "output_type": "stream",
          "text": [
            "[Array(-4.20775, dtype=float32), Array(-3.2719426, dtype=float32), Array(-3.9903703, dtype=float32), Array(-2.3720376, dtype=float32)]\n"
          ]
        }
      ],
      "source": [
        "lls = jax.tree.map(lambda xs: loglikelihood_scan(xs, LOG_TM, LOG_PI), TRAJECTORIES)\n",
        "print(lls[:4])"
      ]
    },
    {
      "cell_type": "markdown",
      "metadata": {
        "id": "hC7zQfTt51oO"
      },
      "source": [
        "We can sum these numbers by using the `jax.tree.reduce` operation:"
      ]
    },
    {
      "cell_type": "code",
      "execution_count": null,
      "metadata": {
        "colab": {
          "base_uri": "https://localhost:8080/"
        },
        "id": "nV7Pm0qe56Pk",
        "outputId": "5d072e63-3136-4e49-8219-58d45f27d59c"
      },
      "outputs": [
        {
          "name": "stdout",
          "output_type": "stream",
          "text": [
            "-1357.4761\n",
            "-1357.4761\n"
          ]
        }
      ],
      "source": [
        "import operator\n",
        "\n",
        "print(jax.tree.reduce(operator.add, lls, initializer=0.0))\n",
        "print(sum(lls, 0.0))"
      ]
    },
    {
      "cell_type": "markdown",
      "metadata": {
        "id": "syUaHnCf5-LE"
      },
      "source": [
        "The corresponding implementation of the total loglikelihood looks then as:"
      ]
    },
    {
      "cell_type": "code",
      "execution_count": null,
      "metadata": {
        "colab": {
          "base_uri": "https://localhost:8080/"
        },
        "id": "GddIk44o5-zd",
        "outputId": "b7176127-0430-40d5-c81f-0a026f76b8a0"
      },
      "outputs": [
        {
          "name": "stdout",
          "output_type": "stream",
          "text": [
            "Total loglikelihood: -1357.48\n",
            "29.8 µs ± 1.02 µs per loop (mean ± std. dev. of 7 runs, 10000 loops each)\n"
          ]
        }
      ],
      "source": [
        "def calculate_total_loglikelihood_tree_map(\n",
        "    trajectories: list,\n",
        "    log_tr: Float[Array, \"K K\"],\n",
        "    log_pi: Float[Array, \" K\"],\n",
        ") -> float:\n",
        "    lls = jax.tree.map(lambda xs: loglikelihood_scan(xs, log_tr, log_pi), trajectories)\n",
        "    return jax.tree.reduce(operator.add, lls, initializer=0.0)\n",
        "\n",
        "@jax.jit\n",
        "def f(\n",
        "    log_tm: Float[Array, \"K K\"],\n",
        "    log_pi: Float[Array, \" K\"],\n",
        ") -> float:\n",
        "    return calculate_total_loglikelihood_tree_map(TRAJECTORIES, log_tm, log_pi)\n",
        "\n",
        "\n",
        "# Run it once to compile the function\n",
        "print(f\"Total loglikelihood: {float(f(LOG_TM, LOG_PI)):.2f}\")\n",
        "\n",
        "# Run it several times\n",
        "%timeit f(LOG_TM, LOG_PI).block_until_ready()"
      ]
    },
    {
      "cell_type": "markdown",
      "metadata": {
        "id": "SxKuSal66CGL"
      },
      "source": [
        "Is it better than using a `for` loop? In this case (a flat list with many items) I would say it's pretty similar: the execution time is similar and the Jaxpr is similarly complicated, so in this case it may not be worth the effort.\n",
        "\n",
        "However, if you have a more complex Pytree (usually with just a few nodes, e.g., nested tuples and dictionaries), you may prefer to use the Pytree-based utilities over traversing the tree manually. You can see how [Equinox](https://docs.kidger.site/equinox/all-of-equinox/) uses Pytrees to create convenient structures for holding e.g., neural network parameters. There is also an [equinox.tree_at](https://docs.kidger.site/equinox/api/manipulation/#equinox.tree_at) utility.\n",
        "\n",
        "### Summary\n",
        "\n",
        "We have seen how to calculate total loglikelihood in two manners: using `for` loop or the Pytree utilities.\n",
        "Both solutions are quite fine when we have small data, so we can keep them in memory and still have a reasonably fast likelihood computation.\n",
        "You may encounter problems which are solvable *only* in this manner.\n",
        "\n",
        "However, in many cases there is a better solution, employing padding.\n",
        "This can be applied in *many* popular settings which have objects of variable size (time series, sequences, text, graphs...).\n",
        "This can give us performance gains (on full batches) and be compatible with data subsampling and SGD, which may be the only strategy viable to use when analysing large data sets.\n",
        "\n",
        "Let's understand the...\n",
        "\n",
        "## Padding trick\n",
        "\n",
        "We couldn't use `jax.vmap` due to the fact that our `TRAJECTORIES` object is a Pytree which can't really be converted to a single array.\n",
        "\n",
        "However, we know that a single trajectory shouldn't be longer 24 hours. Hence, we can pad a trajectory $(X_0, X_1, ..., X_5)$ to, say, size 24 by adding artificial states $-1$: $(X_0, X_1, ..., X_5, -1, -1, -1)$.\n",
        "\n",
        "Thanks to this we can wrap all the trajectories an array and use `jax.vmap`! Because all the trajectories will be then of the same length, we will be also able to create batches with constant shape `(BATCH_SIZE, 24)`, which are compatible with SGD.\n",
        "\n",
        "This is the dream. However, our loglikelihood function doesn't really know that the states $-1$ should not contribute to the loglikelihood. Let's think how we can fix this situation.\n",
        "\n",
        "### Changing the loglikelihood\n",
        "\n",
        "**Problem:** Write a function calculating the loglikelihood ignoring the transitions to the $-1$ state (i.e., increase the loglikelihood by 0, rather than the value from the transition matrix).\n",
        "\n",
        "Hint: You may find [`jnp.where`](https://jax.readthedocs.io/en/latest/_autosummary/jax.numpy.where.html) or [`jax.lax.select`](https://jax.readthedocs.io/en/latest/_autosummary/jax.lax.select.html#jax.lax.select) useful:\n",
        "\n",
        "```python\n",
        "jnp.where(True, 3.0, 0.0)        # 3.0\n",
        "jnp.where(False, 3.0, 0.0)       # 0.0\n",
        "\n",
        "jax.lax.select(True, 3.0, 0.0)   # 3.0\n",
        "jax.lax.select(False, 3.0, 0.0)  # 0.0\n",
        "```\n",
        "Alternatively, you can use a batched version of `jnp.where` to create a mask:\n",
        "```python\n",
        "jnp.where(jnp.asarray([0, 1, -1, -1]) > -1, 1.0, 0.0)\n",
        "```"
      ]
    },
    {
      "cell_type": "code",
      "execution_count": null,
      "metadata": {
        "id": "x96X31A965RH"
      },
      "outputs": [],
      "source": [
        "def loglikelihood_scan_compatible_with_padding(\n",
        "    trajectory: Int[Array, \" n\"],\n",
        "    log_tm: Float[Array, \"K K\"],\n",
        "    log_pi: Float[Array, \" K\"],\n",
        ") -> float:\n",
        "    \"\"\"Calculates the likelihood for a single trajectory using `jax.lax.scan`.\n",
        "    Compatible with padding with -1 on the right.\n",
        "    \"\"\"\n",
        "\n",
        "    def scan_fn(carry, current):\n",
        "        last, loglike = carry\n",
        "        contrib = jnp.where(current >= 0, log_tm[last, current], 0.0)\n",
        "        loglike += contrib\n",
        "        return (current, loglike), None\n",
        "\n",
        "    initial_carry = (trajectory[0], log_pi[trajectory[0]])\n",
        "    final_carry, _ = jax.lax.scan(scan_fn, initial_carry, trajectory[1:])\n",
        "\n",
        "    return final_carry[1]"
      ]
    },
    {
      "cell_type": "code",
      "execution_count": null,
      "metadata": {
        "colab": {
          "base_uri": "https://localhost:8080/"
        },
        "id": "oNc939Jc65oG",
        "outputId": "6d55253a-c30d-4995-b5a2-b3043f1fd1d1"
      },
      "outputs": [
        {
          "name": "stdout",
          "output_type": "stream",
          "text": [
            "-4.21 =?= -4.21\n",
            "-6.10 =?= -6.10\n",
            "-7.17 =?= -7.17\n",
            "-13.23 =?= -13.23\n",
            "-28.41 =?= -28.41\n"
          ]
        }
      ],
      "source": [
        "def pad_trajectory(trajectory: Int[Array, \" n\"], total_length: int) -> Int[Array, \" total_length\"]:\n",
        "    \"\"\"This function pads a `trajectory` to `total_length`.\n",
        "\n",
        "    Note that it's a preprocessing function, which should be used *outside* of JIT.\n",
        "    \"\"\"\n",
        "    if len(trajectory) > total_length:\n",
        "        raise ValueError(\"This trajectory cannot be padded.\")\n",
        "    elif len(trajectory) == total_length:\n",
        "        return trajectory\n",
        "    else:\n",
        "        return jnp.pad(trajectory, (0, total_length - len(trajectory)), mode=\"constant\", constant_values=-1)\n",
        "\n",
        "\n",
        "# Test whether the padded values indeed don't contribute to the loglikelihood\n",
        "for index in [0, 10, 20, 30, -1]:\n",
        "    trajectory = TRAJECTORIES[index]\n",
        "\n",
        "    ll1 = loglikelihood_scan(trajectory, LOG_TM, LOG_PI)\n",
        "\n",
        "    padded = pad_trajectory(trajectory, 24)\n",
        "    ll2 = loglikelihood_scan_compatible_with_padding(padded, LOG_TM, LOG_PI)\n",
        "\n",
        "    print(f\"{ll1:.2f} =?= {ll2:.2f}\")"
      ]
    },
    {
      "cell_type": "markdown",
      "metadata": {
        "id": "GKeijbM67Xod"
      },
      "source": [
        "### Calculating the loglikelihood\n",
        "\n",
        "It looks like we can finally obtain the total loglikelihood being as JAX-compatible as possible.\n",
        "\n",
        "**Problem:** Create a `PADDED_TRAJECTORIES` array of shape `(len(TRAJECTORIES), 24)`. You can find `jax.tree.map` helpful."
      ]
    },
    {
      "cell_type": "code",
      "execution_count": null,
      "metadata": {
        "id": "zp2GgLav7XHW"
      },
      "outputs": [],
      "source": [
        "PADDED_TRAJECTORIES = jnp.asarray(jax.tree.map(lambda x: pad_trajectory(x, 24), TRAJECTORIES))"
      ]
    },
    {
      "cell_type": "markdown",
      "metadata": {
        "id": "UDjGeXZF7d5g"
      },
      "source": [
        "As we have the trajectories padded, we can just apply the `jax.vmap`:"
      ]
    },
    {
      "cell_type": "code",
      "execution_count": null,
      "metadata": {
        "colab": {
          "base_uri": "https://localhost:8080/"
        },
        "id": "ZUT2-xkl7eqA",
        "outputId": "61754983-bb8c-4a13-ec06-527c1922442b"
      },
      "outputs": [
        {
          "name": "stdout",
          "output_type": "stream",
          "text": [
            "Total loglikelihood: -1357.48\n",
            "15 µs ± 1.79 µs per loop (mean ± std. dev. of 7 runs, 100000 loops each)\n",
            "13 µs ± 2.51 µs per loop (mean ± std. dev. of 7 runs, 100000 loops each)\n"
          ]
        }
      ],
      "source": [
        "# As `trajectories` is now an array of fixed size, we can JIT over everything\n",
        "@jax.jit\n",
        "def calculate_total_loglikelihood_the_jax_way(\n",
        "    trajectories: Int[Array, \"batch_size padded_length\"],\n",
        "    log_tm: Float[Array, \"K K\"],\n",
        "    log_pi: Float[Array, \" K\"],\n",
        ") -> float:\n",
        "    # Apply loglikelihood for different trajectories, using the same `log_tm` and `log_pi`:\n",
        "    lls = jax.vmap(loglikelihood_scan_compatible_with_padding, in_axes=(0, None, None))(trajectories, log_tm, log_pi)\n",
        "    return jnp.sum(lls)\n",
        "\n",
        "print(f\"Total loglikelihood: {calculate_total_loglikelihood_the_jax_way(PADDED_TRAJECTORIES, LOG_TM, LOG_PI):.2f}\")\n",
        "\n",
        "# Run it several times\n",
        "%timeit calculate_total_loglikelihood_the_jax_way(PADDED_TRAJECTORIES, LOG_TM, LOG_PI).block_until_ready()\n",
        "\n",
        "# We can also do the JIT on the partial function, in the same way as before.\n",
        "@jax.jit\n",
        "def f(\n",
        "    log_tm: Float[Array, \"K K\"],\n",
        "    log_pi: Float[Array, \" K\"],\n",
        ") -> float:\n",
        "    return calculate_total_loglikelihood_the_jax_way(PADDED_TRAJECTORIES, log_tm, log_pi)\n",
        "\n",
        "f(LOG_TM, LOG_PI).block_until_ready()  # Run it for the first time to compile\n",
        "\n",
        "# Run it a few times\n",
        "%timeit f(LOG_TM, LOG_PI).block_until_ready()"
      ]
    },
    {
      "cell_type": "markdown",
      "metadata": {
        "id": "K-G8tFpz7itk"
      },
      "source": [
        "This is some visible improvement! It is more efficient, can be easily used with subsampled values, and the Jaxpr is much shorter.\n",
        "\n",
        "**Problem:** Compare the Jaxpr of `calculate_total_loglikelihood_the_jax_way` with either of the previous solutions."
      ]
    },
    {
      "cell_type": "markdown",
      "metadata": {
        "id": "8eMXy1qy70MP"
      },
      "source": [
        "### Digression: Isn't padding wasting too much?\n",
        "\n",
        "Padding is a great technique, but can be quite wasteful: the majority of the entries in the padded trajectories correspond to the artificial state.\n",
        "We can calculate the percentage as"
      ]
    },
    {
      "cell_type": "code",
      "execution_count": null,
      "metadata": {
        "colab": {
          "base_uri": "https://localhost:8080/"
        },
        "id": "j6eW87C474Ny",
        "outputId": "d359c4d3-ef5a-411d-ab14-62426a8586c4"
      },
      "outputs": [
        {
          "name": "stdout",
          "output_type": "stream",
          "text": [
            "Artificial state prevalence: 72.02%\n"
          ]
        }
      ],
      "source": [
        "print(f\"Artificial state prevalence: {100 * float((PADDED_TRAJECTORIES < 0).sum() / PADDED_TRAJECTORIES.size):.2f}%\")"
      ]
    },
    {
      "cell_type": "markdown",
      "metadata": {
        "id": "YuK8cycu740J"
      },
      "source": [
        "This is quite a lot! And if we had just a single very long trajectories (length 100, say), we would need to pad all of our short trajectories.\n",
        "\n",
        "Let's optimise it. We can take a look at the length distribution:"
      ]
    },
    {
      "cell_type": "code",
      "execution_count": null,
      "metadata": {
        "colab": {
          "base_uri": "https://localhost:8080/"
        },
        "id": "XNtpiw8f8cKV",
        "outputId": "e5195d56-bb7c-4e0e-e12b-549dd703bc04"
      },
      "outputs": [
        {
          "name": "stdout",
          "output_type": "stream",
          "text": [
            "Length 0 trajectories: 0\n",
            "Length 1 trajectories: 0\n",
            "Length 2 trajectories: 10\n",
            "Length 3 trajectories: 5\n",
            "Length 4 trajectories: 5\n",
            "Length 5 trajectories: 8\n",
            "Length 6 trajectories: 20\n",
            "Length 7 trajectories: 26\n",
            "Length 8 trajectories: 15\n",
            "Length 9 trajectories: 0\n",
            "Length 10 trajectories: 0\n",
            "Length 11 trajectories: 10\n",
            "Length 12 trajectories: 3\n",
            "Length 13 trajectories: 0\n",
            "Length 14 trajectories: 3\n"
          ]
        }
      ],
      "source": [
        "lengths = jnp.asarray(jax.tree.map(len, TRAJECTORIES))\n",
        "\n",
        "for i, v in enumerate(jnp.bincount(lengths)):\n",
        "    print(f\"Length {i} trajectories: {v}\")"
      ]
    },
    {
      "cell_type": "markdown",
      "metadata": {
        "id": "Vv-BD20V8dxs"
      },
      "source": [
        "Padding all trajectories to length 24 is definitely suboptimal.\n",
        "We could use padding to 14, but at the cost of some additional labour, we can optimise even more.\n",
        "\n",
        "We can group the trajectories into several rough sizes and pad them to smaller values.\n",
        "For example, we could split the data into two data sets: of length at most 7 (with padding to length 7) and these of length at least 8 (with padding to 14).\n",
        "\n",
        "Such custom padding solutions, to fit into several sizes, is quite common in some applications, when the shapes of the objects are very diverse and we do not want to waste resources (both time and memory) by padding everything to the largest object."
      ]
    },
    {
      "cell_type": "code",
      "execution_count": null,
      "metadata": {
        "colab": {
          "base_uri": "https://localhost:8080/"
        },
        "id": "hXv74BL98y-n",
        "outputId": "28db020d-3546-4745-b266-81727f72d898"
      },
      "outputs": [
        {
          "name": "stdout",
          "output_type": "stream",
          "text": [
            "10.8 µs ± 2.32 µs per loop (mean ± std. dev. of 7 runs, 100000 loops each)\n"
          ]
        }
      ],
      "source": [
        "short_threshold = 7\n",
        "padding_long = max([len(xs) for xs in TRAJECTORIES])\n",
        "\n",
        "SHORT_TRAJECTORIES = list(filter(lambda xs: len(xs) <= short_threshold, TRAJECTORIES))\n",
        "LONG_TRAJECTORIES = list(filter(lambda xs: len(xs) > short_threshold, TRAJECTORIES))\n",
        "\n",
        "PADDED_SHORT = jnp.asarray(jax.tree.map(lambda x: pad_trajectory(x, short_threshold), SHORT_TRAJECTORIES))\n",
        "PADDED_LONG = jnp.asarray(jax.tree.map(lambda x: pad_trajectory(x, padding_long), LONG_TRAJECTORIES))\n",
        "\n",
        "\n",
        "# We can also do the JIT on the partial function, in the same way as before.\n",
        "@jax.jit\n",
        "def f(\n",
        "    log_tm: Float[Array, \"K K\"],\n",
        "    log_pi: Float[Array, \" K\"],\n",
        ") -> float:\n",
        "    short = calculate_total_loglikelihood_the_jax_way(PADDED_SHORT, log_tm, log_pi)\n",
        "    long = calculate_total_loglikelihood_the_jax_way(PADDED_LONG, log_tm, log_pi)\n",
        "    return short + long\n",
        "\n",
        "\n",
        "f(LOG_TM, LOG_PI).block_until_ready()  # Run it for the first time to compile\n",
        "\n",
        "# Run it a few times\n",
        "%timeit f(LOG_TM, LOG_PI).block_until_ready()"
      ]
    },
    {
      "cell_type": "markdown",
      "metadata": {
        "id": "Uo9G43z285hS"
      },
      "source": [
        "In Bitney's case (all the trajectories are quite short), the difference is marginal: however, when one considers trajectories of very variable length (e.g., adding just a few trajectories of length 100) the difference can be much larger.\n",
        "\n",
        "## Optimising the parameters\n",
        "\n",
        "We have define the total loglikelihood. Now we can use it to find the parameters maximising it. Note that we need to optimise over `log_tm` and `log_pi` matrices, which have the following constraints:\n",
        "  - Probabilities sum up to 1.\n",
        "  - Probabilities are between 0 and 1, so that the entries of the log-matrices are negative.\n",
        "\n",
        "\n",
        "One of the simplest solutions is to use [`jax.nn.log_softmax`](https://jax.readthedocs.io/en/latest/_autosummary/jax.nn.log_softmax.html) to transform an unconstrained length-$K$ vector to `log_pi` and the rows of an unconstrained $K\\times K$ matrix to `log_tm`. Note that this parameter is not identifiable, but we can still hope that it may perhaps find the loss basing corresponding to a good estimate of interpretable parameters.\n",
        "\n",
        "**Problem:** Estimate `log_tm` and `log_pi` by maximising the likelihood calculated with respect to an unconstrained parameter. Save them to arrays `OPTIMAL_LOG_TM` and `OPTIMAL_LOG_PI`.\n",
        "\n",
        "Hint: You may use [Optax](https://optax.readthedocs.io/en/latest/) to work with e.g., a dictionary of parameters, storing the parameters of for `log_pi` and `log_tm`, or wrap these parameters into a vector of length $(K+1)K$ compatible with [`jax.scipy.optimize.minimize`](https://jax.readthedocs.io/en/latest/_autosummary/jax.scipy.optimize.minimize.html).\n",
        "For the latter approach, you may find the following code useful:\n",
        "\n",
        "```python\n",
        "def param_to_log_pi(param: Float[Array, \" (K+1)*K\"]) -> Float[Array, \" K\"]:\n",
        "    param = param.reshape((K+1, K))\n",
        "    return jax.nn.log_softmax(param[0, :])\n",
        "\n",
        "\n",
        "def param_to_log_tm(param: Float[Array, \" (K+1)*K\"]) -> Float[Array, \"K K\"]:\n",
        "    param = param.reshape((K+1, K))\n",
        "    return jax.nn.log_softmax(param[1:, :], axis=1)\n",
        "\n",
        "\n",
        "def loss(param: Float[Array, \" (K+1)*K\"]) -> float:\n",
        "    log_pi = param_to_log_pi(param)\n",
        "    log_tm = param_to_log_tm(param)\n",
        "\n",
        "    short_ll = calculate_total_loglikelihood_the_jax_way(PADDED_SHORT, log_tm, log_pi)\n",
        "    long_ll = calculate_total_loglikelihood_the_jax_way(PADDED_LONG, log_tm, log_pi)\n",
        "    return -(short_ll + long_ll)  # Note the minus sign, to change from likelihood maximisation to loss minimisation.\n",
        "```"
      ]
    },
    {
      "cell_type": "code",
      "execution_count": null,
      "metadata": {
        "id": "OhSNHXP_8_rf"
      },
      "outputs": [],
      "source": [
        "from jax.scipy import optimize\n",
        "\n",
        "def param_to_log_pi(param: Float[Array, \" (K+1)*K\"]) -> Float[Array, \" K\"]:\n",
        "    param = param.reshape((K+1, K))\n",
        "    return jax.nn.log_softmax(param[0, :])\n",
        "    raise NotImplementedError()\n",
        "\n",
        "\n",
        "def param_to_log_tm(param: Float[Array, \" (K+1)*K\"]) -> Float[Array, \"K K\"]:\n",
        "    param = param.reshape((K+1, K))\n",
        "    return jax.nn.log_softmax(param[1:, :], axis=1)\n",
        "    # raise NotImplementedError()\n",
        "\n",
        "\n",
        "def loss(param: Float[Array, \" (K+1)*K\"]) -> float:\n",
        "    log_pi = param_to_log_pi(param)\n",
        "    log_tm = param_to_log_tm(param)\n",
        "\n",
        "    short = calculate_total_loglikelihood_the_jax_way(PADDED_SHORT, log_tm, log_pi)\n",
        "    long = calculate_total_loglikelihood_the_jax_way(PADDED_LONG, log_tm, log_pi)\n",
        "    return -(short + long)\n",
        "\n",
        "\n",
        "result = optimize.minimize(loss, jnp.zeros((K + 1) * K), method=\"BFGS\")\n",
        "\n",
        "OPTIMAL_LOG_TM = param_to_log_tm(result.x)\n",
        "OPTIMAL_LOG_PI = param_to_log_pi(result.x)"
      ]
    },
    {
      "cell_type": "markdown",
      "metadata": {
        "id": "J54a9edkCG0k"
      },
      "source": [
        "Let's compare if the found values are *somewhat close* to the following values (they won't be exactly the same). If they are *very different*, perhaps running the optimisation for a bit longer may help:"
      ]
    },
    {
      "cell_type": "code",
      "execution_count": null,
      "metadata": {
        "colab": {
          "base_uri": "https://localhost:8080/",
          "height": 297
        },
        "id": "0arGp_BF93mw",
        "outputId": "8589417b-0e41-4e61-af6e-981f6cc87d9b"
      },
      "outputs": [
        {
          "data": {
            "image/png": "[encoded data removed]",
            "text/plain": [
              "<Figure size 1000x300 with 5 Axes>"
            ]
          },
          "metadata": {},
          "output_type": "display_data"
        }
      ],
      "source": [
        "import matplotlib.pyplot as plt\n",
        "import seaborn as sns\n",
        "\n",
        "REF_LOG_TM = jnp.asarray([[ -0.51,  -1.61,  -3.  ,  -3.  ,  -2.3 ], [ -1.2 ,  -0.92,  -3.  ,  -1.9 ,  -2.3 ], [ -1.2 ,  -1.2 , -20.72,  -0.92, -20.72], [ -0.8 ,  -0.8 ,  -3.  , -20.72,  -3.  ], [ -1.2 ,  -1.2 , -20.72,  -2.3 ,  -1.2 ]])\n",
        "REF_LOG_PI = jnp.asarray([-1.39, -0.97, -1.9 , -3.91, -1.61])\n",
        "\n",
        "fig, axs = plt.subplots(1, 3, figsize=(5, 1.5), dpi=200)\n",
        "\n",
        "\n",
        "ax = axs[0]\n",
        "sns.heatmap(REF_LOG_TM, ax=ax, cmap=\"magma\", vmin=-5, vmax=0)\n",
        "ax.set_title(\"Reference $(\\\\log T_{xy})$\")\n",
        "\n",
        "ax = axs[1]\n",
        "sns.heatmap(OPTIMAL_LOG_TM, ax=ax, cmap=\"magma\", vmin=-5, vmax=0)\n",
        "ax.set_title(\"Found $(\\\\log T_{xy})$\")\n",
        "\n",
        "ax = axs[2]\n",
        "x_axis = jnp.arange(K)\n",
        "\n",
        "ax.plot(x_axis, REF_LOG_PI, c=\"goldenrod\")\n",
        "ax.plot(x_axis, OPTIMAL_LOG_PI, c=\"darkblue\")\n",
        "ax.spines[[\"top\", \"right\"]].set_visible(False)\n",
        "ax.set_title(\"$\\\\log \\\\pi_k$\")\n",
        "\n",
        "fig.tight_layout()"
      ]
    },
    {
      "cell_type": "markdown",
      "metadata": {
        "id": "yzQYEFwAC2lZ"
      },
      "source": [
        "As we have found the values of the parameters, we can use them to generate new data and attempt to predict the future.\n",
        "(Well, under a very, very strong assumption: that the future works in the same manner as the past. More accurate description would be [*retrodict the past*](https://betanalpha.github.io/assets/case_studies/principled_bayesian_workflow.html#143_Posterior_Retrodiction_Checks).)\n",
        "\n",
        "Bitney is going to spend tomorrow 7 hours at the campus.\n",
        "We would like to know:\n",
        "\n",
        "  - (a) The probability that he will visit the park tomorrow.\n",
        "  - (b) How many number of hours he will spend in the library.\n",
        "\n",
        "To do that, we can sample a large number (e.g., 1000) of trajectories and estimate these quantities basing on simulations. This is called the [Monte Carlo method](https://en.wikipedia.org/wiki/Monte_Carlo_method).\n",
        "\n",
        "### Pseudorandom numbers in JAX\n",
        "\n",
        "JAX generates pseudorandom numbers in a *different* way than NumPy or PyTorch.\n",
        "For the overview of differences, see [this link](https://jax.readthedocs.io/en/latest/random-numbers.html).\n",
        "\n",
        "The most important difference is that there is no generator object, but we rather provide a `key` array. The same key passed twice to the same distribution returns exactly the same output:"
      ]
    },
    {
      "cell_type": "code",
      "execution_count": null,
      "metadata": {
        "colab": {
          "base_uri": "https://localhost:8080/"
        },
        "id": "0BwTDcwNEtto",
        "outputId": "63ff2e04-cccb-438a-840d-358bbd8c6aaa"
      },
      "outputs": [
        {
          "name": "stdout",
          "output_type": "stream",
          "text": [
            "2 is the same as 2\n"
          ]
        }
      ],
      "source": [
        "key = jax.random.PRNGKey(2024)\n",
        "\n",
        "probs = jnp.asarray([0.25, 0.25, 0.5])\n",
        "\n",
        "output1 = jax.random.categorical(key, logits=jnp.log(probs))\n",
        "output2 = jax.random.categorical(key, logits=jnp.log(probs))\n",
        "\n",
        "print(f\"{output1} is the same as {output2}\")"
      ]
    },
    {
      "cell_type": "markdown",
      "metadata": {
        "id": "D0Mzz0wIF1EI"
      },
      "source": [
        "Hence, we should treat every `key` as an object which can be used only once. To generate distinct numbers we can split the key into subkeys:\n",
        "\n"
      ]
    },
    {
      "cell_type": "code",
      "execution_count": null,
      "metadata": {
        "colab": {
          "base_uri": "https://localhost:8080/"
        },
        "id": "T4OJXlLnEvXZ",
        "outputId": "131476ab-b914-4517-f10d-9d05a00a2a60"
      },
      "outputs": [
        {
          "name": "stdout",
          "output_type": "stream",
          "text": [
            "There is a reasonable probability that first number (2) is different from the second (1).\n"
          ]
        }
      ],
      "source": [
        "key = jax.random.PRNGKey(2024)\n",
        "\n",
        "key, *subkeys = jax.random.split(key, 3)\n",
        "# `key` is overridden with a new value\n",
        "# `subkeys` is an array of shape 2 = 3-1.\n",
        "\n",
        "probs = jnp.asarray([0.25, 0.25, 0.5])\n",
        "\n",
        "output1 = jax.random.categorical(subkeys[0], logits=jnp.log(probs))\n",
        "output2 = jax.random.categorical(subkeys[1], logits=jnp.log(probs))\n",
        "\n",
        "print(f\"There is a reasonable probability that first number ({output1}) is different from the second ({output2}).\")\n",
        "\n",
        "# If we want to do any further sampling, we should split `key` again"
      ]
    },
    {
      "cell_type": "markdown",
      "metadata": {
        "id": "4-T4LCeDHdWx"
      },
      "source": [
        "**Problem:** Implement a function using `for` loop that samples a trajectory of a given length."
      ]
    },
    {
      "cell_type": "code",
      "execution_count": null,
      "metadata": {
        "colab": {
          "base_uri": "https://localhost:8080/"
        },
        "id": "g3KtELJqHuuc",
        "outputId": "643581fa-21be-4148-b446-b7dc8895a23b"
      },
      "outputs": [
        {
          "name": "stdout",
          "output_type": "stream",
          "text": [
            "Sampled trajectory:\n",
            "[1 4 1 0 0 0 0]\n"
          ]
        }
      ],
      "source": [
        "def sample_trajectory_for_loop(subkey, n: int, log_tm: Float[Array, \"K K\"], log_pi: Float[Array, \" K\"]) -> Int[Array, \" n\"]:\n",
        "    \"\"\"Samples a trajectory of length `n`.\"\"\"\n",
        "    keys = jax.random.split(subkey, n)\n",
        "\n",
        "    x0 = jax.random.categorical(keys[0], log_pi)\n",
        "    ys = [x0]\n",
        "\n",
        "    carry = x0\n",
        "    for key in keys[1:]:\n",
        "      carry = jax.random.categorical(key, log_tm[carry])\n",
        "      ys.append(carry)\n",
        "\n",
        "    return jnp.asarray(ys)\n",
        "\n",
        "key, subkey = jax.random.split(key)  # By default splits into two\n",
        "\n",
        "trajectory_length = 7\n",
        "print(\"Sampled trajectory:\")\n",
        "print(sample_trajectory_for_loop(subkey, trajectory_length, OPTIMAL_LOG_TM, OPTIMAL_LOG_PI))"
      ]
    },
    {
      "cell_type": "markdown",
      "metadata": {
        "id": "RNCoemmxEuN8"
      },
      "source": [
        "Great! Now we can answer the problem:\n",
        "\n",
        "**Problem:** Bitney is going to spend tomorrow 7 hours at the campus. Generate 1000 trajectories. of length 7 and estimate:\n",
        "\n",
        "  - (a) The probability that he will visit the park (location 3) tomorrow.\n",
        "  - (b) How much time he is expected to spend in the library (location 0) tomorrow."
      ]
    },
    {
      "cell_type": "code",
      "execution_count": null,
      "metadata": {
        "colab": {
          "base_uri": "https://localhost:8080/"
        },
        "id": "efz1NqYZIutH",
        "outputId": "b095e56e-3938-4930-d321-82c9f050030a"
      },
      "outputs": [
        {
          "name": "stdout",
          "output_type": "stream",
          "text": [
            "Probability of visiting the park: 0.47\n",
            "Expected library time:            2.93\n"
          ]
        }
      ],
      "source": [
        "def calculate_probability_visit_park(trs: Int[Array, \"batch n\"]) -> float:\n",
        "  \"\"\"Returns the probability that there is at least one \"3\" in the trajectory.\"\"\"\n",
        "  return ((trs == 3).sum(axis=1) > 0).mean()\n",
        "\n",
        "def calculate_mean_number_of_library_hours(trs: Int[Array, \"batch n\"]) -> float:\n",
        "  \"\"\"Returns the expected number of \"0\" entries in a trajectory.\"\"\"\n",
        "  return (trs == 0).sum(axis=1).mean()\n",
        "\n",
        "\n",
        "num_trajectories = 1_000\n",
        "\n",
        "key, *subkeys = jax.random.split(key, num_trajectories + 1)\n",
        "trajectories = jnp.asarray([\n",
        "    sample_trajectory_for_loop(subkey, trajectory_length, OPTIMAL_LOG_TM, OPTIMAL_LOG_PI)\n",
        "    for subkey in subkeys\n",
        "])\n",
        "\n",
        "print(f\"Probability of visiting the park: {calculate_probability_visit_park(trajectories):.2f}\")\n",
        "print(f\"Expected library time:            {calculate_mean_number_of_library_hours(trajectories):.2f}\")"
      ]
    },
    {
      "cell_type": "markdown",
      "metadata": {
        "id": "5l-gmScuGvxo"
      },
      "source": [
        "Great! This works. However, we can speed this up. Currently we are using:\n",
        "\n",
        "  - A `for` loop to sample the trajectories. For long trajectories this is slow.\n",
        "  - A Python list comprehension to sample multiple trajectories of the same length. For a large number of trajectories this is slow.\n",
        "\n",
        "The JAX-native solutions would be:\n",
        "\n",
        "  - A `jax.lax.scan` to replace the `for` loop.\n",
        "  - A `jax.vmap` to replace the list comprehension.\n",
        "\n",
        "**Problem:** Implement a function sampling the trajectories in JAX using `jax.lax.scan`."
      ]
    },
    {
      "cell_type": "code",
      "execution_count": null,
      "metadata": {
        "colab": {
          "base_uri": "https://localhost:8080/"
        },
        "id": "xfmciPIzGuvi",
        "outputId": "a49a793c-731f-46ca-bb3b-379facf41ca8"
      },
      "outputs": [
        {
          "name": "stdout",
          "output_type": "stream",
          "text": [
            "Probability of visiting the park: 0.46\n",
            "Expected library time:            2.93\n"
          ]
        }
      ],
      "source": [
        "def sample_trajectory_the_jax_way(subkey, n: int, log_tm: Float[Array, \"K K\"], log_pi: Float[Array, \" K\"]) -> Int[Array, \" n\"]:\n",
        "    \"\"\"Samples a trajectory of length `n`.\"\"\"\n",
        "    keys = jax.random.split(subkey, n)\n",
        "\n",
        "    def scan_fn(carry: int, key):\n",
        "        state = carry\n",
        "        new_state = jax.random.categorical(key, log_tm[state])\n",
        "        return new_state, new_state\n",
        "\n",
        "    x0 = jax.random.categorical(keys[0], log_pi)\n",
        "    _, trajectory = jax.lax.scan(scan_fn, x0, keys[1:])\n",
        "    trajectory = jnp.concatenate((jnp.array([x0]), trajectory))\n",
        "\n",
        "    return trajectory\n",
        "\n",
        "\n",
        "key, key2 = jax.random.split(key)\n",
        "subkeys = jax.random.split(key2, num_trajectories)\n",
        "\n",
        "trajectories = jax.vmap(sample_trajectory_the_jax_way, in_axes=(0, None, None, None))(subkeys, 7, OPTIMAL_LOG_TM, OPTIMAL_LOG_PI)\n",
        "\n",
        "\n",
        "print(f\"Probability of visiting the park: {calculate_probability_visit_park(trajectories):.2f}\")\n",
        "print(f\"Expected library time:            {calculate_mean_number_of_library_hours(trajectories):.2f}\")"
      ]
    },
    {
      "cell_type": "markdown",
      "metadata": {
        "id": "iSIVdh9GLRDy"
      },
      "source": [
        "Hopefully, we see that the estimates of the quantities of interest are similar. As Monte Carlo standard error is scaling as $O(1/\\sqrt{N})$, increasing the number of sampled trajectories can yield closer estimates.\n",
        "\n",
        "\n",
        "## Summary\n",
        "\n",
        "Congratulations – you have finished the workshop!\n",
        "\n",
        "To reiterate the most important points from this notebook:\n",
        "\n",
        "  - Do use the `jax.lax` alternatives for the `for` loop and `if/else` whenever possible.\n",
        "  - Start with a Python function you trust, and then use it to test a JAX alternative. I usually put the Python \"baseline\" functions in [the unit tests](https://docs.pytest.org/).\n",
        "  - As JAX works with arrays of fixed shapes, use *padding* to resize the objects into just a few fixed shapes. You may need to write a different function (which ignores the padded values), e.g., by using masking.\n",
        "  - JAX supports operations on Pytrees. For complex data structures, such as these supported by [Equinox](https://docs.kidger.site/equinox/all-of-equinox/) this is great. But remember that a single array is much better than a Pytree consisting of list of arrays.\n",
        "\n",
        "\n",
        "### Where to go from here?\n",
        "\n",
        "Probably the best way to continue the JAX adventure is to start using it in your own projects. However, if you want to start a new side project right now, the following ideas may be interesting:\n",
        "\n",
        "  - Once you have a neural network represented as a Pytree ([Equinox](https://docs.kidger.site/equinox/all-of-equinox/)), you have all the building blocks for building diffusion models. See the [blackout diffusion](https://arxiv.org/abs/2305.11089) paper and implement sampling in JAX (or the training). Other diffusion-based models are also easy to implement in JAX.\n",
        "  - In case you want to drop the time-homogeneous Markov assumption, you may consider an autoregressive model: $P(X_0, \\dotsc, X_{n-1}) = P(X_0)P(X_1\\mid X_0) P(X_2\\mid X_1, X_0) \\cdots P(X_{n-1}\\mid X_{n-2}, \\dots, X_{1}, X_0)$. In this case padding is a typical technique, together with masking. You can take a look at the [JAX-based PaLM implementation](https://github.com/lucidrains/PaLM-jax) or [Levanter](https://github.com/stanford-crfm/levanter), a JAX-based framework for building large language models.\n",
        "  - If you are interested in doing Bayesian inference over the parameters $T$ and $\\pi$, rather than optimisation, see the [NumPyro](https://num.pyro.ai/) and [BlackJAX](https://blackjax-devs.github.io/blackjax/) packages. Below there is a prototype showing how easy Bayesian inference is in JAX (once you can build likelihood function).\n",
        "\n",
        "\n",
        "## Bonus: Bayesian inference in JAX\n",
        "\n",
        "\n",
        "As we have the likelihood, i.e., $P(\\text{data}\\mid \\pi, T)$, if we put a prior $P(\\pi, T)$, we can use the [Bayes' rule](https://en.wikipedia.org/wiki/Bayes%27_theorem) and obtain the posterior, $P(\\pi, T \\mid \\text{data})$:\n",
        "$$P(\\pi, T \\mid \\text{data}) = \\frac{ P(\\text{data}\\mid \\pi, T)\\, P(\\pi, T) }{P(\\text{data})},$$\n",
        "\n",
        "which quantifies how probable different solutions are. This approach to estimation is called *Bayesian inference* and allows us to express any uncertainty in parameter estimates using the posterior probability distribution.\n",
        "\n",
        "We will put the uniform probability distribution over each simplex, i.e., $\\text{Dirichlet}(1, 1, \\dotsc, 1)$ distribution."
      ]
    },
    {
      "cell_type": "code",
      "execution_count": null,
      "metadata": {
        "colab": {
          "base_uri": "https://localhost:8080/"
        },
        "id": "IColTmfIRKZu",
        "outputId": "19376ed0-3396-4ef1-bd69-c0918f124a09"
      },
      "outputs": [
        {
          "name": "stderr",
          "output_type": "stream",
          "text": [
            "<ipython-input-46-3dcc5bf2a126>:20: UserWarning: There are not enough devices to run parallel chains: expected 4 but got 1. Chains will be drawn sequentially. If you are running MCMC in CPU, consider using `numpyro.set_host_device_count(4)` at the beginning of your program. You can double-check how many devices are available in your system using `jax.local_device_count()`.\n",
            "  mcmc = MCMC(nuts_kernel, num_warmup=500, num_samples=1000, num_chains=4)\n",
            "sample: 100%|██████████| 1500/1500 [00:04<00:00, 335.86it/s, 7 steps of size 4.44e-01. acc. prob=0.91]  \n",
            "sample: 100%|██████████| 1500/1500 [00:01<00:00, 1156.63it/s, 7 steps of size 4.56e-01. acc. prob=0.89]\n",
            "sample: 100%|██████████| 1500/1500 [00:01<00:00, 1187.22it/s, 7 steps of size 4.68e-01. acc. prob=0.90]\n",
            "sample: 100%|██████████| 1500/1500 [00:01<00:00, 786.48it/s, 7 steps of size 4.72e-01. acc. prob=0.90]\n"
          ]
        },
        {
          "name": "stdout",
          "output_type": "stream",
          "text": [
            "\n",
            "                mean       std    median      5.0%     95.0%     n_eff     r_hat\n",
            "    T[0,0]      0.60      0.03      0.60      0.56      0.66   4579.02      1.00\n",
            "    T[0,1]      0.22      0.03      0.21      0.17      0.26   4641.42      1.00\n",
            "    T[0,2]      0.07      0.02      0.06      0.04      0.09   6929.09      1.00\n",
            "    T[0,3]      0.03      0.01      0.03      0.01      0.05   5026.49      1.00\n",
            "    T[0,4]      0.09      0.02      0.09      0.06      0.12   5816.96      1.00\n",
            "    T[1,0]      0.36      0.03      0.36      0.31      0.42   6628.09      1.00\n",
            "    T[1,1]      0.34      0.03      0.34      0.29      0.40   5821.53      1.00\n",
            "    T[1,2]      0.06      0.02      0.05      0.03      0.08   4698.42      1.00\n",
            "    T[1,3]      0.15      0.03      0.15      0.11      0.19   5183.79      1.00\n",
            "    T[1,4]      0.10      0.02      0.09      0.06      0.13   5181.61      1.00\n",
            "    T[2,0]      0.31      0.07      0.30      0.19      0.42   5235.99      1.00\n",
            "    T[2,1]      0.35      0.07      0.34      0.23      0.46   5370.73      1.00\n",
            "    T[2,2]      0.02      0.02      0.01      0.00      0.05   5688.18      1.00\n",
            "    T[2,3]      0.30      0.07      0.30      0.18      0.41   5536.11      1.00\n",
            "    T[2,4]      0.02      0.02      0.02      0.00      0.05   6368.77      1.00\n",
            "    T[3,0]      0.39      0.07      0.38      0.27      0.49   5541.50      1.00\n",
            "    T[3,1]      0.46      0.07      0.46      0.35      0.57   5470.05      1.00\n",
            "    T[3,2]      0.02      0.02      0.01      0.00      0.05   5775.50      1.00\n",
            "    T[3,3]      0.02      0.02      0.01      0.00      0.04   5146.63      1.00\n",
            "    T[3,4]      0.12      0.04      0.11      0.04      0.18   5891.09      1.00\n",
            "    T[4,0]      0.35      0.05      0.35      0.26      0.43   5437.34      1.00\n",
            "    T[4,1]      0.27      0.05      0.26      0.19      0.34   4817.68      1.00\n",
            "    T[4,2]      0.01      0.01      0.01      0.00      0.03   6037.75      1.00\n",
            "    T[4,3]      0.12      0.04      0.12      0.06      0.18   7375.56      1.00\n",
            "    T[4,4]      0.25      0.05      0.25      0.18      0.33   5982.00      1.00\n",
            "     pi[0]      0.16      0.03      0.15      0.10      0.21   6507.75      1.00\n",
            "     pi[1]      0.42      0.05      0.42      0.34      0.50   6100.59      1.00\n",
            "     pi[2]      0.18      0.04      0.18      0.12      0.24   5593.14      1.00\n",
            "     pi[3]      0.02      0.01      0.01      0.00      0.03   5125.59      1.00\n",
            "     pi[4]      0.23      0.04      0.23      0.17      0.29   5450.31      1.00\n",
            "\n",
            "Number of divergences: 0\n"
          ]
        }
      ],
      "source": [
        "import numpyro\n",
        "import numpyro.distributions as dist\n",
        "from numpyro.infer import MCMC, NUTS\n",
        "\n",
        "def model(K):\n",
        "    # Sample pi from a uniform distribution over the probability simplex\n",
        "    pi = numpyro.sample(\"pi\", dist.Dirichlet(jnp.ones(K)))\n",
        "\n",
        "    # Sample T from K Dirichlet distributions\n",
        "    T = numpyro.sample(\"T\", dist.Dirichlet(jnp.ones(K)).expand([K]))\n",
        "\n",
        "    numpyro.factor(\"likelihood\",\n",
        "        calculate_total_loglikelihood_the_jax_way(PADDED_TRAJECTORIES, log_tm=jnp.log(T), log_pi=jnp.log(pi))\n",
        "    )\n",
        "\n",
        "    return pi, T\n",
        "\n",
        "\n",
        "nuts_kernel = NUTS(model)\n",
        "mcmc = MCMC(nuts_kernel, num_warmup=500, num_samples=1000, num_chains=4)\n",
        "mcmc.run(jax.random.PRNGKey(0), K)\n",
        "mcmc.print_summary()"
      ]
    },
    {
      "cell_type": "markdown",
      "metadata": {
        "id": "2yLfFW5oCetJ"
      },
      "source": [
        "With just a few lines of code more, we could do Bayesian inference, which provides estimates together with uncertainty!\n",
        "We can use these samples to generate the predictive samples (i.e., sample the trajectories). In many cases, they will show higher variability than these corresponding to a single point estimate.\n",
        "\n",
        "Bayesian data analysis doesn't end up with inference. For discussion of model checking and other topics, we refer to [BDA3](https://stat.columbia.edu/~gelman/book/) and [Statistical rethinking](https://youtu.be/FdnMWdICdRs?feature=shared)."
      ]
    }
  ],
  "metadata": {
    "colab": {
      "provenance": []
    },
    "kernelspec": {
      "display_name": "Python 3",
      "name": "python3"
    },
    "language_info": {
      "name": "python"
    }
  },
  "nbformat": 4,
  "nbformat_minor": 0
}
